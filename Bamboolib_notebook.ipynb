{
 "cells": [
  {
   "cell_type": "code",
   "execution_count": 1,
   "id": "44fee10d",
   "metadata": {},
   "outputs": [],
   "source": [
    "import bamboolib as bam"
   ]
  },
  {
   "cell_type": "code",
   "execution_count": 3,
   "id": "35491c29",
   "metadata": {
    "scrolled": true
   },
   "outputs": [
    {
     "data": {
      "application/vnd.jupyter.widget-view+json": {
       "model_id": "ec7ccd32c04e476c825deff47ebb0d64",
       "version_major": 2,
       "version_minor": 0
      },
      "text/plain": [
       "BamboolibModuleWindow(children=(Window(children=(VBox(children=(VBox(children=(Button(description='Read CSV fi…"
      ]
     },
     "metadata": {},
     "output_type": "display_data"
    }
   ],
   "source": [
    "bam"
   ]
  },
  {
   "cell_type": "code",
   "execution_count": 4,
   "id": "e6143a6b",
   "metadata": {},
   "outputs": [],
   "source": [
    "import pandas as pd\n",
    "df = pd.read_csv(r'/home/thibault/Documents/Data/Image_Metadata_v1_20211220_103045.csv', sep=',', decimal='.')\n",
    "# Step: Keep rows where (scientific_name is one of: Lepomis) and (institution is one of: INHS)\n",
    "df = df.loc[(df['scientific_name'].isin(['Lepomis'])) & (df['institution'].isin(['INHS']))]"
   ]
  },
  {
   "cell_type": "code",
   "execution_count": 8,
   "id": "86078d5c",
   "metadata": {},
   "outputs": [
    {
     "name": "stdout",
     "output_type": "stream",
     "text": [
      "Bamboolib_notebook.ipynb       download_script.sh\t   __pycache__\r\n",
      "Create_bbox_images.py\t       Drexel_metadata_TT_util.py  temp_script.sh.save\r\n",
      "Create_Cropped_images_main.py  list_lepomis_INHS.csv\t   Untitled.ipynb\r\n"
     ]
    }
   ],
   "source": [
    "!ls\n",
    "\n"
   ]
  },
  {
   "cell_type": "code",
   "execution_count": null,
   "id": "c5ac5e06",
   "metadata": {},
   "outputs": [],
   "source": [
    "import pandas as pd\n",
    "df = pd.read_csv(r'/home/thibault/Documents/Data/Image_Metadata_v1_20211220_103045.csv', sep=',', decimal='.')\n",
    "# Step: Keep rows where (scientific_name is one of: Lepomis) and (institution is one of: INHS)\n",
    "df = df.loc[(df['scientific_name'].isin(['Lepomis'])) & (df['institution'].isin(['INHS']))]\n",
    "\n",
    "# Step: Manipulate strings of 'original_file_name' and perform a split on '.'\n",
    "split_df = df['original_file_name'].str.split('\\\\.', expand=True)\n",
    "split_df.columns = ['original_file_name' + f\"_{id_}\" for id_ in range(len(split_df.columns))]\n",
    "df = pd.merge(df, split_df, how=\"left\", left_index=True, right_index=True)\n",
    "\n",
    "# Step: Rearranged the order of the columns\n",
    "df = df[[] + ['id', 'file_name', 'original_file_name', 'catalog_id', 'dataset', 'path', 'scientific_name', 'genus', 'family', 'institution', 'width', 'height', 'size', 'original_file_name_0', 'original_file_name_1']]\n",
    "\n",
    "# Step: Rearranged the order of the columns\n",
    "df = df[['original_file_name_0'] + ['id', 'file_name', 'original_file_name', 'catalog_id', 'dataset', 'path', 'scientific_name', 'genus', 'family', 'institution', 'width', 'height', 'size', 'original_file_name_1']]\n",
    "\n",
    "# Step: Drop columns\n",
    "df = df.drop(columns=['original_file_name', 'original_file_name_1'])\n",
    "\n"
   ]
  },
  {
   "cell_type": "code",
   "execution_count": 25,
   "id": "c6cdf1d2",
   "metadata": {},
   "outputs": [],
   "source": [
    "df = pd.read_csv(r'/home/thibault/Documents/Project/workflow_mock_bgnn/list_lepomis.csv', sep=',', decimal='.')\n",
    "split_df = df['original_file_name'].str.split('\\\\.', expand=True)\n",
    "split_df.columns=['original_file_name','2']\n",
    "samples_df = df.drop(columns=['original_file_name'])\n",
    "df = pd.merge(split_df['original_file_name'],samples_df, how=\"left\", left_index=True, right_index=True)\n",
    "samples_df = df.set_index('original_file_name', drop=False)"
   ]
  }
 ],
 "metadata": {
  "kernelspec": {
   "display_name": "Python 3 (ipykernel)",
   "language": "python",
   "name": "python3"
  },
  "language_info": {
   "codemirror_mode": {
    "name": "ipython",
    "version": 3
   },
   "file_extension": ".py",
   "mimetype": "text/x-python",
   "name": "python",
   "nbconvert_exporter": "python",
   "pygments_lexer": "ipython3",
   "version": "3.8.12"
  }
 },
 "nbformat": 4,
 "nbformat_minor": 5
}
